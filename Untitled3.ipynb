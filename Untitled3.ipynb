{
  "nbformat": 4,
  "nbformat_minor": 0,
  "metadata": {
    "colab": {
      "name": "Untitled3.ipynb",
      "provenance": [],
      "collapsed_sections": [],
      "authorship_tag": "ABX9TyPohiOCeeqtrE4GzpWFCogS"
    },
    "kernelspec": {
      "name": "python3",
      "display_name": "Python 3"
    },
    "language_info": {
      "name": "python"
    }
  },
  "cells": [
    {
      "cell_type": "code",
      "source": [
        "from google.colab import files\n",
        "data_to_load = files.upload()"
      ],
      "metadata": {
        "id": "vTBYFLtb8aOa"
      },
      "execution_count": null,
      "outputs": []
    },
    {
      "cell_type": "code",
      "source": [
        "import csv\n",
        "\n",
        "with open(\"SOCR-HeightWeight.csv\", newline=\"\") as f:\n",
        "  reader = csv.reader(f)\n",
        "  file_data = list(reader)"
      ],
      "metadata": {
        "id": "G5eIjItK8dF3"
      },
      "execution_count": null,
      "outputs": []
    },
    {
      "cell_type": "code",
      "source": [
        "file_data.pop(0)\n",
        "\n",
        "new_data=[]\n",
        "\n",
        "for i in range(len(file_data)):\n",
        "    n_num = file_data[i][1]\n",
        "    new_data.append(float(n_num))"
      ],
      "metadata": {
        "id": "sU2PkFpC830Q"
      },
      "execution_count": null,
      "outputs": []
    },
    {
      "cell_type": "code",
      "source": [
        "from types import new_class\n",
        "n = len(new_data)\n",
        "total=0\n",
        "\n",
        "for x in new_data :\n",
        "    total+=x\n",
        "\n",
        "mean=total/n\n",
        "\n",
        "print(\"Mean / Average is: \" + str(mean))"
      ],
      "metadata": {
        "id": "GHBopo6e9pll"
      },
      "execution_count": null,
      "outputs": []
    },
    {
      "cell_type": "code",
      "source": [
        "new_data.sort()"
      ],
      "metadata": {
        "id": "0aolFUDH-OQX"
      },
      "execution_count": null,
      "outputs": []
    },
    {
      "cell_type": "code",
      "source": [
        "if n %  2==0 :\n",
        "  median1 = float(new_data[n//2])\n",
        "  median2 = float(new_data[n//2 - 1])\n",
        "  median = (median1 + median2)/2\n",
        "else:\n",
        "\tmedian = new_data[n//2]\n",
        "\n",
        "print(\"Median is: \" + str(median))"
      ],
      "metadata": {
        "id": "10JhO0yM-Tw4"
      },
      "execution_count": null,
      "outputs": []
    },
    {
      "cell_type": "code",
      "source": [
        "from collections import Counter"
      ],
      "metadata": {
        "id": "6BVl6EN_-wKd"
      },
      "execution_count": null,
      "outputs": []
    },
    {
      "cell_type": "code",
      "source": [
        "data = Counter(new_data)\n",
        "mode_data_for_range = {\n",
        "                        \"50-60\": 0,\n",
        "                        \"60-70\": 0,\n",
        "                        \"70-80\": 0\n",
        "                    }"
      ],
      "metadata": {
        "id": "hTqg2Wb--26e"
      },
      "execution_count": null,
      "outputs": []
    },
    {
      "cell_type": "code",
      "source": [
        "for height, occurence in data.items():\n",
        "    if 50 < float(height) < 60:\n",
        "        mode_data_for_range[\"50-60\"] += occurence\n",
        "    elif 60 < float(height) < 70:\n",
        "        mode_data_for_range[\"60-70\"] += occurence\n",
        "    elif 70 < float(height) < 80:\n",
        "        mode_data_for_range[\"70-80\"] += occurence"
      ],
      "metadata": {
        "id": "5WaqpQZp--bs"
      },
      "execution_count": null,
      "outputs": []
    },
    {
      "cell_type": "code",
      "source": [
        "mode_range, mode_occurence = 0, 0\n",
        "for range, occurence in mode_data_for_range.items():\n",
        "    if occurence > mode_occurence:\n",
        "        mode_range, mode_occurence = [int(range.split(\"-\")[0]), int(range.split(\"-\")[1])], occurence\n",
        "mode = float((mode_range[0] + mode_range[1]) / 2)\n",
        "print(f\"Mode is -> {mode:2f}\")"
      ],
      "metadata": {
        "id": "OLRS_2lu_CKh"
      },
      "execution_count": null,
      "outputs": []
    }
  ]
}